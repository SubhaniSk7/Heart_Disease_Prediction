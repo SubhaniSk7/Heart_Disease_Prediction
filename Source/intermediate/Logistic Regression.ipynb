{
 "cells": [
  {
   "cell_type": "code",
   "execution_count": 1,
   "metadata": {},
   "outputs": [],
   "source": [
    "from sklearn.model_selection import train_test_split\n",
    "from sklearn.model_selection import GridSearchCV\n",
    "from sklearn.datasets import *\n",
    "from sklearn.linear_model import LogisticRegression\n",
    "import pandas as pd\n",
    "import warnings\n",
    "# warnings.filterwarnings(\"ignore\")\n",
    "from sklearn.metrics import confusion_matrix\n",
    "import seaborn as sns\n",
    "import numpy as np\n",
    "from sklearn import metrics\n",
    "import matplotlib.pyplot as plt\n",
    "from sklearn.metrics import auc"
   ]
  },
  {
   "cell_type": "code",
   "execution_count": 2,
   "metadata": {},
   "outputs": [
    {
     "name": "stderr",
     "output_type": "stream",
     "text": [
      "c:\\users\\subhani\\appdata\\local\\programs\\python\\python36\\lib\\site-packages\\sklearn\\model_selection\\_split.py:2179: FutureWarning: From version 0.21, test_size will always complement train_size unless both are specified.\n",
      "  FutureWarning)\n"
     ]
    }
   ],
   "source": [
    "data = pd.read_csv('heart.csv')\n",
    "X_train, X_test, y_train, y_test = train_test_split(data.iloc[:,0:13], data[[\"target\"]], train_size=.8,random_state=45)"
   ]
  },
  {
   "cell_type": "markdown",
   "metadata": {},
   "source": [
    "### Training"
   ]
  },
  {
   "cell_type": "code",
   "execution_count": 3,
   "metadata": {},
   "outputs": [
    {
     "name": "stderr",
     "output_type": "stream",
     "text": [
      "c:\\users\\subhani\\appdata\\local\\programs\\python\\python36\\lib\\site-packages\\sklearn\\linear_model\\logistic.py:433: FutureWarning: Default solver will be changed to 'lbfgs' in 0.22. Specify a solver to silence this warning.\n",
      "  FutureWarning)\n",
      "c:\\users\\subhani\\appdata\\local\\programs\\python\\python36\\lib\\site-packages\\sklearn\\utils\\validation.py:761: DataConversionWarning: A column-vector y was passed when a 1d array was expected. Please change the shape of y to (n_samples, ), for example using ravel().\n",
      "  y = column_or_1d(y, warn=True)\n"
     ]
    },
    {
     "data": {
      "text/plain": [
       "GridSearchCV(cv=5, error_score='raise-deprecating',\n",
       "       estimator=LogisticRegression(C=1.0, class_weight=None, dual=False, fit_intercept=True,\n",
       "          intercept_scaling=1, max_iter=100, multi_class='warn',\n",
       "          n_jobs=None, penalty='l2', random_state=None, solver='warn',\n",
       "          tol=0.0001, verbose=0, warm_start=False),\n",
       "       fit_params=None, iid='warn', n_jobs=-1,\n",
       "       param_grid=[{'C': [0.0001, 0.01, 1, 100, 10000]}],\n",
       "       pre_dispatch='2*n_jobs', refit=True, return_train_score='warn',\n",
       "       scoring='f1', verbose=0)"
      ]
     },
     "execution_count": 3,
     "metadata": {},
     "output_type": "execute_result"
    }
   ],
   "source": [
    "tuned_parameters = [{'C': [10**-4, 10**-2, 10**0, 10**2, 10**4]}]\n",
    "\n",
    "model = GridSearchCV(LogisticRegression(), tuned_parameters, scoring = 'f1', cv=5,n_jobs=-1)\n",
    "\n",
    "model.fit(X_train, y_train)"
   ]
  },
  {
   "cell_type": "code",
   "execution_count": 4,
   "metadata": {},
   "outputs": [
    {
     "name": "stdout",
     "output_type": "stream",
     "text": [
      "LogisticRegression(C=1, class_weight=None, dual=False, fit_intercept=True,\n",
      "          intercept_scaling=1, max_iter=100, multi_class='warn',\n",
      "          n_jobs=None, penalty='l2', random_state=None, solver='warn',\n",
      "          tol=0.0001, verbose=0, warm_start=False)\n",
      "0.9166666666666667\n"
     ]
    }
   ],
   "source": [
    "print(model.best_estimator_)\n",
    "print(model.score(X_test, y_test))"
   ]
  },
  {
   "cell_type": "markdown",
   "metadata": {},
   "source": [
    "### Evaluation metrics"
   ]
  },
  {
   "cell_type": "markdown",
   "metadata": {},
   "source": [
    "#### Confusion matrix"
   ]
  },
  {
   "cell_type": "code",
   "execution_count": 5,
   "metadata": {},
   "outputs": [
    {
     "data": {
      "image/png": "[encoded data removed]",
      "text/plain": [
       "<Figure size 432x288 with 2 Axes>"
      ]
     },
     "metadata": {
      "needs_background": "light"
     },
     "output_type": "display_data"
    }
   ],
   "source": [
    "cm=confusion_matrix(y_test, model.predict(X_test))\n",
    "ax= plt.subplot()\n",
    "sns.heatmap(cm, annot=True, ax = ax,cmap='tab20c_r'); #annot=True to annotate cells\n",
    "\n",
    "# labels, title and ticks\n",
    "ax.set_xlabel('Predicted labels');ax.set_ylabel('True labels'); \n",
    "ax.set_title('Confusion Matrix'); \n",
    "ax.xaxis.set_ticklabels(['disease', 'no_disease']); ax.yaxis.set_ticklabels(['disease', 'no_disease']);"
   ]
  },
  {
   "cell_type": "code",
   "execution_count": 7,
   "metadata": {},
   "outputs": [
    {
     "name": "stdout",
     "output_type": "stream",
     "text": [
      "[[0.04860737 0.95139263]\n",
      " [0.20007444 0.79992556]\n",
      " [0.01581157 0.98418843]\n",
      " [0.04012635 0.95987365]\n",
      " [0.18509602 0.81490398]\n",
      " [0.07729573 0.92270427]\n",
      " [0.53378853 0.46621147]\n",
      " [0.96938316 0.03061684]\n",
      " [0.03883072 0.96116928]\n",
      " [0.87899596 0.12100404]\n",
      " [0.56548466 0.43451534]\n",
      " [0.02938946 0.97061054]\n",
      " [0.18911715 0.81088285]\n",
      " [0.73758133 0.26241867]\n",
      " [0.96754877 0.03245123]\n",
      " [0.99384689 0.00615311]\n",
      " [0.21906293 0.78093707]\n",
      " [0.95677104 0.04322896]\n",
      " [0.97907656 0.02092344]\n",
      " [0.30071682 0.69928318]\n",
      " [0.13160281 0.86839719]\n",
      " [0.03349291 0.96650709]\n",
      " [0.20202352 0.79797648]\n",
      " [0.04103326 0.95896674]\n",
      " [0.35580202 0.64419798]\n",
      " [0.09629465 0.90370535]\n",
      " [0.07695066 0.92304934]\n",
      " [0.063429   0.936571  ]\n",
      " [0.23158806 0.76841194]\n",
      " [0.91850093 0.08149907]\n",
      " [0.08986561 0.91013439]\n",
      " [0.50023343 0.49976657]\n",
      " [0.9745686  0.0254314 ]\n",
      " [0.99057908 0.00942092]\n",
      " [0.73564096 0.26435904]\n",
      " [0.0310918  0.9689082 ]\n",
      " [0.70459603 0.29540397]\n",
      " [0.03830201 0.96169799]\n",
      " [0.98944879 0.01055121]\n",
      " [0.12373212 0.87626788]\n",
      " [0.11531063 0.88468937]\n",
      " [0.49521171 0.50478829]\n",
      " [0.99048092 0.00951908]\n",
      " [0.52965239 0.47034761]\n",
      " [0.94994193 0.05005807]\n",
      " [0.50831642 0.49168358]\n",
      " [0.40979655 0.59020345]\n",
      " [0.69841356 0.30158644]\n",
      " [0.49518532 0.50481468]\n",
      " [0.90928968 0.09071032]\n",
      " [0.13478514 0.86521486]\n",
      " [0.04327031 0.95672969]\n",
      " [0.51810075 0.48189925]\n",
      " [0.29475381 0.70524619]\n",
      " [0.68906532 0.31093468]\n",
      " [0.95972266 0.04027734]\n",
      " [0.05143546 0.94856454]\n",
      " [0.73157444 0.26842556]\n",
      " [0.03413369 0.96586631]\n",
      " [0.33345303 0.66654697]\n",
      " [0.96116526 0.03883474]]\n"
     ]
    }
   ],
   "source": [
    "scores = model.predict_proba(X_test)\n",
    "print(scores)"
   ]
  },
  {
   "cell_type": "markdown",
   "metadata": {},
   "source": [
    "#### ROC plot"
   ]
  },
  {
   "cell_type": "code",
   "execution_count": 8,
   "metadata": {},
   "outputs": [
    {
     "data": {
      "image/png": "[encoded data removed]",
      "text/plain": [
       "<Figure size 432x288 with 1 Axes>"
      ]
     },
     "metadata": {
      "needs_background": "light"
     },
     "output_type": "display_data"
    }
   ],
   "source": [
    "fpr, tpr, thresholds = metrics.roc_curve(y_test, scores[:,1], pos_label=1)\n",
    "roc_auc = auc(fpr, tpr)\n",
    "\n",
    "plt.plot(fpr,tpr)\n",
    "plt.plot([0,1],[0,1],'k--')\n",
    "plt.xlabel('1-Specificity = FPR')\n",
    "plt.ylabel(\"Sensitivity = TPR = Recall\")\n",
    "plt.title(\"AUC-ROC Curve\")\n",
    "plt.show()"
   ]
  },
  {
   "cell_type": "code",
   "execution_count": 9,
   "metadata": {},
   "outputs": [
    {
     "data": {
      "text/plain": [
       "0.9324942791762014"
      ]
     },
     "execution_count": 9,
     "metadata": {},
     "output_type": "execute_result"
    }
   ],
   "source": [
    "roc_auc"
   ]
  },
  {
   "cell_type": "code",
   "execution_count": null,
   "metadata": {},
   "outputs": [],
   "source": []
  },
  {
   "cell_type": "code",
   "execution_count": null,
   "metadata": {},
   "outputs": [],
   "source": []
  }
 ],
 "metadata": {
  "kernelspec": {
   "display_name": "Python 3",
   "language": "python",
   "name": "python3"
  },
  "language_info": {
   "codemirror_mode": {
    "name": "ipython",
    "version": 3
   },
   "file_extension": ".py",
   "mimetype": "text/x-python",
   "name": "python",
   "nbconvert_exporter": "python",
   "pygments_lexer": "ipython3",
   "version": "3.6.8"
  }
 },
 "nbformat": 4,
 "nbformat_minor": 2
}
